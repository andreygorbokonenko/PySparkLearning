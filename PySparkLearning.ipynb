{
 "cells": [
  {
   "cell_type": "code",
   "execution_count": 21,
   "metadata": {},
   "outputs": [],
   "source": [
    "import pyspark\n",
    "import pandas as pd"
   ]
  },
  {
   "cell_type": "code",
   "execution_count": 24,
   "metadata": {},
   "outputs": [],
   "source": [
    "from pyspark.sql import SparkSession"
   ]
  },
  {
   "cell_type": "code",
   "execution_count": 25,
   "metadata": {},
   "outputs": [],
   "source": [
    "spark = SparkSession.builder.appName('DemoSession').getOrCreate()"
   ]
  },
  {
   "cell_type": "code",
   "execution_count": 26,
   "metadata": {},
   "outputs": [
    {
     "data": {
      "text/html": [
       "\n",
       "            <div>\n",
       "                <p><b>SparkSession - in-memory</b></p>\n",
       "                \n",
       "        <div>\n",
       "            <p><b>SparkContext</b></p>\n",
       "\n",
       "            <p><a href=\"http://192.168.1.163:4040\">Spark UI</a></p>\n",
       "\n",
       "            <dl>\n",
       "              <dt>Version</dt>\n",
       "                <dd><code>v3.4.0</code></dd>\n",
       "              <dt>Master</dt>\n",
       "                <dd><code>local[*]</code></dd>\n",
       "              <dt>AppName</dt>\n",
       "                <dd><code>DemoSession</code></dd>\n",
       "            </dl>\n",
       "        </div>\n",
       "        \n",
       "            </div>\n",
       "        "
      ],
      "text/plain": [
       "<pyspark.sql.session.SparkSession at 0x7f6f865c8ee0>"
      ]
     },
     "execution_count": 26,
     "metadata": {},
     "output_type": "execute_result"
    }
   ],
   "source": [
    "spark"
   ]
  },
  {
   "cell_type": "code",
   "execution_count": 27,
   "metadata": {},
   "outputs": [],
   "source": [
    "df_pyspark=spark.read.csv('banklist.csv')"
   ]
  },
  {
   "cell_type": "code",
   "execution_count": 33,
   "metadata": {},
   "outputs": [],
   "source": [
    "df_pyspark2=spark.read.option('header', 'True').csv('banklist.csv', inferSchema = True)"
   ]
  },
  {
   "cell_type": "code",
   "execution_count": 30,
   "metadata": {},
   "outputs": [
    {
     "name": "stdout",
     "output_type": "stream",
     "text": [
      "+--------------------+------------------+------+-----+----------------------+-------------+-----+\n",
      "|          Bank Name�|             City�|State�|Cert�|Acquiring Institution�|Closing Date�| Fund|\n",
      "+--------------------+------------------+------+-----+----------------------+-------------+-----+\n",
      "|      Signature Bank|          New York|    NY|57053|   Flagstar Bank, N.A.|    12-Mar-23|10540|\n",
      "| Silicon Valley Bank|       Santa Clara|    CA|24735|  First�Citizens Ba...|    10-Mar-23|10539|\n",
      "|   Almena State Bank|            Almena|    KS|15426|           Equity Bank|    23-Oct-20|10538|\n",
      "|First City Bank o...| Fort Walton Beach|    FL|16748|  United Fidelity B...|    16-Oct-20|10537|\n",
      "|The First State Bank|     Barboursville|    WV|14361|        MVB Bank, Inc.|     3-Apr-20|10536|\n",
      "|  Ericson State Bank|           Ericson|    NE|18265|  Farmers and Merch...|    14-Feb-20|10535|\n",
      "|City National Ban...|            Newark|    NJ|21111|       Industrial Bank|     1-Nov-19|10534|\n",
      "|       Resolute Bank|            Maumee|    OH|58317|    Buckeye State Bank|    25-Oct-19|10533|\n",
      "|Louisa Community ...|            Louisa|    KY|58112|  Kentucky Farmers ...|    25-Oct-19|10532|\n",
      "|The Enloe State Bank|            Cooper|    TX|10716|    Legend Bank, N. A.|    31-May-19|10531|\n",
      "|Washington Federa...|           Chicago|    IL|30570|    Royal Savings Bank|    15-Dec-17|10530|\n",
      "|The Farmers and M...|           Argonia|    KS|17719|           Conway Bank|    13-Oct-17|10529|\n",
      "| Fayette County Bank|        Saint Elmo|    IL| 1802|  United Fidelity B...|    26-May-17|10528|\n",
      "|Guaranty Bank, (d...|         Milwaukee|    WI|30003|  First-Citizens Ba...|     5-May-17|10527|\n",
      "|      First NBC Bank|       New Orleans|    LA|58302|          Whitney Bank|    28-Apr-17|10526|\n",
      "|       Proficio Bank|Cottonwood Heights|    UT|35495|     Cache Valley Bank|     3-Mar-17|10525|\n",
      "|Seaway Bank and T...|           Chicago|    IL|19328|   State Bank of Texas|    27-Jan-17|10524|\n",
      "|Harvest Community...|        Pennsville|    NJ|34951|  First-Citizens Ba...|    13-Jan-17|10523|\n",
      "|         Allied Bank|          Mulberry|    AR|   91|          Today's Bank|    23-Sep-16|10522|\n",
      "|The Woodbury Bank...|          Woodbury|    GA|11297|           United Bank|    19-Aug-16|10521|\n",
      "+--------------------+------------------+------+-----+----------------------+-------------+-----+\n",
      "only showing top 20 rows\n",
      "\n"
     ]
    }
   ],
   "source": [
    "df_pyspark2.show()"
   ]
  },
  {
   "cell_type": "code",
   "execution_count": 31,
   "metadata": {},
   "outputs": [
    {
     "data": {
      "text/plain": [
       "pyspark.sql.dataframe.DataFrame"
      ]
     },
     "execution_count": 31,
     "metadata": {},
     "output_type": "execute_result"
    }
   ],
   "source": [
    "type(df_pyspark2)"
   ]
  },
  {
   "cell_type": "code",
   "execution_count": 34,
   "metadata": {},
   "outputs": [
    {
     "name": "stdout",
     "output_type": "stream",
     "text": [
      "root\n",
      " |-- Bank Name�: string (nullable = true)\n",
      " |-- City�: string (nullable = true)\n",
      " |-- State�: string (nullable = true)\n",
      " |-- Cert�: integer (nullable = true)\n",
      " |-- Acquiring Institution�: string (nullable = true)\n",
      " |-- Closing Date�: string (nullable = true)\n",
      " |-- Fund: integer (nullable = true)\n",
      "\n"
     ]
    }
   ],
   "source": [
    "df_pyspark2.printSchema()"
   ]
  },
  {
   "cell_type": "code",
   "execution_count": 44,
   "metadata": {},
   "outputs": [
    {
     "name": "stderr",
     "output_type": "stream",
     "text": [
      "23/04/24 19:42:10 WARN package: Truncated the string representation of a plan since it was too large. This behavior can be adjusted by setting 'spark.sql.debug.maxToStringFields'.\n"
     ]
    },
    {
     "name": "stdout",
     "output_type": "stream",
     "text": [
      "+-------+--------------------+-------+------+------------------+----------------------+-------------+------------------+\n",
      "|summary|          Bank Name�|  City�|State�|             Cert�|Acquiring Institution�|Closing Date�|              Fund|\n",
      "+-------+--------------------+-------+------+------------------+----------------------+-------------+------------------+\n",
      "|  count|                 565|    565|   565|               565|                   565|          565|               565|\n",
      "|   mean|                null|   null|  null| 31663.06371681416|                  null|         null|10038.654867256637|\n",
      "| stddev|                null|   null|  null|16451.887876412864|                  null|         null|1113.7598768569017|\n",
      "|    min|1st American Stat...|Acworth|    AL|                91|       1st United Bank|     1-Aug-08|              4645|\n",
      "|    max|               ebank|Wyoming|    WY|             58701|   Your Community Bank|     9-Sep-11|             10540|\n",
      "+-------+--------------------+-------+------+------------------+----------------------+-------------+------------------+\n",
      "\n"
     ]
    }
   ],
   "source": [
    "df_pyspark2.describe().show()"
   ]
  },
  {
   "cell_type": "code",
   "execution_count": 46,
   "metadata": {},
   "outputs": [
    {
     "name": "stdout",
     "output_type": "stream",
     "text": [
      "+--------------------+------------------+------+-----+----------------------+-------------+-----+-------+\n",
      "|          Bank Name�|             City�|State�|Cert�|Acquiring Institution�|Closing Date�| Fund|New col|\n",
      "+--------------------+------------------+------+-----+----------------------+-------------+-----+-------+\n",
      "|      Signature Bank|          New York|    NY|57053|   Flagstar Bank, N.A.|    12-Mar-23|10540|  10541|\n",
      "| Silicon Valley Bank|       Santa Clara|    CA|24735|  First�Citizens Ba...|    10-Mar-23|10539|  10540|\n",
      "|   Almena State Bank|            Almena|    KS|15426|           Equity Bank|    23-Oct-20|10538|  10539|\n",
      "|First City Bank o...| Fort Walton Beach|    FL|16748|  United Fidelity B...|    16-Oct-20|10537|  10538|\n",
      "|The First State Bank|     Barboursville|    WV|14361|        MVB Bank, Inc.|     3-Apr-20|10536|  10537|\n",
      "|  Ericson State Bank|           Ericson|    NE|18265|  Farmers and Merch...|    14-Feb-20|10535|  10536|\n",
      "|City National Ban...|            Newark|    NJ|21111|       Industrial Bank|     1-Nov-19|10534|  10535|\n",
      "|       Resolute Bank|            Maumee|    OH|58317|    Buckeye State Bank|    25-Oct-19|10533|  10534|\n",
      "|Louisa Community ...|            Louisa|    KY|58112|  Kentucky Farmers ...|    25-Oct-19|10532|  10533|\n",
      "|The Enloe State Bank|            Cooper|    TX|10716|    Legend Bank, N. A.|    31-May-19|10531|  10532|\n",
      "|Washington Federa...|           Chicago|    IL|30570|    Royal Savings Bank|    15-Dec-17|10530|  10531|\n",
      "|The Farmers and M...|           Argonia|    KS|17719|           Conway Bank|    13-Oct-17|10529|  10530|\n",
      "| Fayette County Bank|        Saint Elmo|    IL| 1802|  United Fidelity B...|    26-May-17|10528|  10529|\n",
      "|Guaranty Bank, (d...|         Milwaukee|    WI|30003|  First-Citizens Ba...|     5-May-17|10527|  10528|\n",
      "|      First NBC Bank|       New Orleans|    LA|58302|          Whitney Bank|    28-Apr-17|10526|  10527|\n",
      "|       Proficio Bank|Cottonwood Heights|    UT|35495|     Cache Valley Bank|     3-Mar-17|10525|  10526|\n",
      "|Seaway Bank and T...|           Chicago|    IL|19328|   State Bank of Texas|    27-Jan-17|10524|  10525|\n",
      "|Harvest Community...|        Pennsville|    NJ|34951|  First-Citizens Ba...|    13-Jan-17|10523|  10524|\n",
      "|         Allied Bank|          Mulberry|    AR|   91|          Today's Bank|    23-Sep-16|10522|  10523|\n",
      "|The Woodbury Bank...|          Woodbury|    GA|11297|           United Bank|    19-Aug-16|10521|  10522|\n",
      "+--------------------+------------------+------+-----+----------------------+-------------+-----+-------+\n",
      "only showing top 20 rows\n",
      "\n"
     ]
    }
   ],
   "source": [
    "df_pyspark2.withColumn('New col', df_pyspark2['Fund']+1).show()"
   ]
  }
 ],
 "metadata": {
  "kernelspec": {
   "display_name": "Python 3",
   "language": "python",
   "name": "python3"
  },
  "language_info": {
   "codemirror_mode": {
    "name": "ipython",
    "version": 3
   },
   "file_extension": ".py",
   "mimetype": "text/x-python",
   "name": "python",
   "nbconvert_exporter": "python",
   "pygments_lexer": "ipython3",
   "version": "3.10.6"
  },
  "orig_nbformat": 4,
  "vscode": {
   "interpreter": {
    "hash": "916dbcbb3f70747c44a77c7bcd40155683ae19c65e1c03b4aa3499c5328201f1"
   }
  }
 },
 "nbformat": 4,
 "nbformat_minor": 2
}
